{
 "cells": [
  {
   "cell_type": "code",
   "execution_count": 23,
   "id": "457bbb54-2406-49c8-a53d-12d888be6076",
   "metadata": {},
   "outputs": [],
   "source": [
    "import requests\n",
    "from bs4 import BeautifulSoup\n",
    "import re\n",
    "\n",
    "urlName = \"https://business.nikkei.com\"\n",
    "url = requests.get(urlName)\n",
    "soup = BeautifulSoup(url.content, \"html.parser\")\n",
    "\n",
    "elems = soup.find_all(\"span\")\n",
    "\n",
    "for elem in elems: \n",
    "  try:\n",
    "    string = elem.get(\"class\").pop(0)\n",
    "    if string in \"category\":\n",
    "      print(elem.string)\n",
    "      title = elem.find_next_sibling(\"h3\")\n",
    "      print(title.text.replace('\\n',''))\n",
    "      r = elem.find_previous('a')\n",
    "      print(urlName + r.get('href'), '\\n')\n",
    "  except:\n",
    "    pass"
   ]
  }
 ],
 "metadata": {
  "kernelspec": {
   "display_name": "Python 3 (ipykernel)",
   "language": "python",
   "name": "python3"
  },
  "language_info": {
   "codemirror_mode": {
    "name": "ipython",
    "version": 3
   },
   "file_extension": ".py",
   "mimetype": "text/x-python",
   "name": "python",
   "nbconvert_exporter": "python",
   "pygments_lexer": "ipython3",
   "version": "3.12.4"
  }
 },
 "nbformat": 4,
 "nbformat_minor": 5
}
